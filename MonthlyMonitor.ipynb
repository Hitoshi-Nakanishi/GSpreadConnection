{
 "cells": [
  {
   "cell_type": "code",
   "execution_count": 1,
   "metadata": {
    "collapsed": false
   },
   "outputs": [],
   "source": [
    "import GDconfig\n",
    "import numpy as np\n",
    "import pandas as pd\n",
    "from GSpreadConnection.main import GSpreadConnection\n",
    "import matplotlib.pyplot as plt\n",
    "%matplotlib inline"
   ]
  },
  {
   "cell_type": "code",
   "execution_count": 2,
   "metadata": {
    "collapsed": false
   },
   "outputs": [
    {
     "name": "stdout",
     "output_type": "stream",
     "text": [
      "['シート1', '水道使用', 'Statistics']\n"
     ]
    }
   ],
   "source": [
    "# Connect GSpread and Open spread file\n",
    "GSC = GSpreadConnection(GDconfig.jsonfile).connect()\n",
    "GSC = GSC.open_sheet('DailyLifeLog').load_titles()"
   ]
  },
  {
   "cell_type": "code",
   "execution_count": 3,
   "metadata": {
    "collapsed": false
   },
   "outputs": [
    {
     "data": {
      "text/html": [
       "<div>\n",
       "<style scoped>\n",
       "    .dataframe tbody tr th:only-of-type {\n",
       "        vertical-align: middle;\n",
       "    }\n",
       "\n",
       "    .dataframe tbody tr th {\n",
       "        vertical-align: top;\n",
       "    }\n",
       "\n",
       "    .dataframe thead th {\n",
       "        text-align: right;\n",
       "    }\n",
       "</style>\n",
       "<table border=\"1\" class=\"dataframe\">\n",
       "  <thead>\n",
       "    <tr style=\"text-align: right;\">\n",
       "      <th></th>\n",
       "      <th>年.自月～年.至月</th>\n",
       "      <th>日数(日)</th>\n",
       "      <th>使用水量(m3)</th>\n",
       "      <th>CO2排出量(kg)</th>\n",
       "      <th>水道料金(円)</th>\n",
       "      <th>下水道料金(円)</th>\n",
       "      <th>合計金額(円)</th>\n",
       "      <th>領収金額(円)</th>\n",
       "      <th>notional(JPY)/day</th>\n",
       "      <th>water(m3)/day</th>\n",
       "      <th>CO2(g)/day</th>\n",
       "    </tr>\n",
       "  </thead>\n",
       "  <tbody>\n",
       "    <tr>\n",
       "      <th>1</th>\n",
       "      <td>H26.03～H26.04</td>\n",
       "      <td>57</td>\n",
       "      <td>12</td>\n",
       "      <td>2.4</td>\n",
       "      <td>2503</td>\n",
       "      <td>1176</td>\n",
       "      <td>3679</td>\n",
       "      <td>3574</td>\n",
       "      <td>62.70</td>\n",
       "      <td>0.25</td>\n",
       "      <td>49.26</td>\n",
       "    </tr>\n",
       "    <tr>\n",
       "      <th>2</th>\n",
       "      <td>H26.05～H26.06</td>\n",
       "      <td>62</td>\n",
       "      <td>16</td>\n",
       "      <td>3.2</td>\n",
       "      <td>2633</td>\n",
       "      <td>1192</td>\n",
       "      <td>3825</td>\n",
       "      <td>3718</td>\n",
       "      <td>59.97</td>\n",
       "      <td>0.24</td>\n",
       "      <td>47.12</td>\n",
       "    </tr>\n",
       "    <tr>\n",
       "      <th>3</th>\n",
       "      <td>H26.07～H26.08</td>\n",
       "      <td>62</td>\n",
       "      <td>20</td>\n",
       "      <td>4.0</td>\n",
       "      <td>2764</td>\n",
       "      <td>1684</td>\n",
       "      <td>4448</td>\n",
       "      <td>4340</td>\n",
       "      <td>70.00</td>\n",
       "      <td>0.27</td>\n",
       "      <td>55.00</td>\n",
       "    </tr>\n",
       "  </tbody>\n",
       "</table>\n",
       "</div>"
      ],
      "text/plain": [
       "0      年.自月～年.至月  日数(日)  使用水量(m3)  CO2排出量(kg)  水道料金(円)  下水道料金(円)  合計金額(円)  \\\n",
       "1  H26.03～H26.04     57        12         2.4     2503      1176     3679   \n",
       "2  H26.05～H26.06     62        16         3.2     2633      1192     3825   \n",
       "3  H26.07～H26.08     62        20         4.0     2764      1684     4448   \n",
       "\n",
       "0  領収金額(円)  notional(JPY)/day  water(m3)/day  CO2(g)/day  \n",
       "1     3574              62.70           0.25       49.26  \n",
       "2     3718              59.97           0.24       47.12  \n",
       "3     4340              70.00           0.27       55.00  "
      ]
     },
     "execution_count": 3,
     "metadata": {},
     "output_type": "execute_result"
    }
   ],
   "source": [
    "df = GSC.read_as_pandas('水道使用').df\n",
    "df.head(3)"
   ]
  },
  {
   "cell_type": "code",
   "execution_count": 4,
   "metadata": {
    "collapsed": false,
    "scrolled": true
   },
   "outputs": [
    {
     "data": {
      "text/plain": [
       "<matplotlib.legend.Legend at 0x10e69ef60>"
      ]
     },
     "execution_count": 4,
     "metadata": {},
     "output_type": "execute_result"
    },
    {
     "data": {
      "image/png": "[encoded data removed]",
      "text/plain": [
       "<matplotlib.figure.Figure at 0x10e69e898>"
      ]
     },
     "metadata": {},
     "output_type": "display_data"
    }
   ],
   "source": [
    "df.iloc[:,4].plot(label='Water bill(JPY)')\n",
    "plt.legend()"
   ]
  },
  {
   "cell_type": "code",
   "execution_count": null,
   "metadata": {
    "collapsed": false
   },
   "outputs": [
    {
     "data": {
      "text/html": [
       "<div>\n",
       "<style scoped>\n",
       "    .dataframe tbody tr th:only-of-type {\n",
       "        vertical-align: middle;\n",
       "    }\n",
       "\n",
       "    .dataframe tbody tr th {\n",
       "        vertical-align: top;\n",
       "    }\n",
       "\n",
       "    .dataframe thead th {\n",
       "        text-align: right;\n",
       "    }\n",
       "</style>\n",
       "<table border=\"1\" class=\"dataframe\">\n",
       "  <thead>\n",
       "    <tr style=\"text-align: right;\">\n",
       "      <th></th>\n",
       "      <th>0</th>\n",
       "      <th>1</th>\n",
       "    </tr>\n",
       "  </thead>\n",
       "  <tbody>\n",
       "    <tr>\n",
       "      <th>0</th>\n",
       "      <td>-0.439328</td>\n",
       "      <td>0.677281</td>\n",
       "    </tr>\n",
       "    <tr>\n",
       "      <th>1</th>\n",
       "      <td>-0.401904</td>\n",
       "      <td>-1.065050</td>\n",
       "    </tr>\n",
       "    <tr>\n",
       "      <th>2</th>\n",
       "      <td>0.610184</td>\n",
       "      <td>0.284063</td>\n",
       "    </tr>\n",
       "  </tbody>\n",
       "</table>\n",
       "</div>"
      ],
      "text/plain": [
       "          0         1\n",
       "0 -0.439328  0.677281\n",
       "1 -0.401904 -1.065050\n",
       "2  0.610184  0.284063"
      ]
     },
     "execution_count": 5,
     "metadata": {},
     "output_type": "execute_result"
    }
   ],
   "source": [
    "df = pd.DataFrame(np.random.randn(3,2))\n",
    "df"
   ]
  },
  {
   "cell_type": "code",
   "execution_count": null,
   "metadata": {
    "collapsed": false
   },
   "outputs": [],
   "source": [
    "# Create new sheet and upload dataframe to new sheet\n",
    "GSC = GSC.create_sheet(\"test_sheet\",GDconfig.gmail)\n",
    "GSC = GSC.upload_from_pandas('Sheet1',df,'B2')"
   ]
  }
 ],
 "metadata": {
  "kernelspec": {
   "display_name": "Python 3",
   "language": "python",
   "name": "python3"
  },
  "language_info": {
   "codemirror_mode": {
    "name": "ipython",
    "version": 3
   },
   "file_extension": ".py",
   "mimetype": "text/x-python",
   "name": "python",
   "nbconvert_exporter": "python",
   "pygments_lexer": "ipython3",
   "version": "3.5.2"
  }
 },
 "nbformat": 4,
 "nbformat_minor": 2
}
